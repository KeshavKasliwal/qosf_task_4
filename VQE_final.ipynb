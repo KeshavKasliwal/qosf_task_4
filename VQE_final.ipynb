{
 "cells": [
  {
   "cell_type": "code",
   "execution_count": 1,
   "metadata": {
    "colab": {},
    "colab_type": "code",
    "id": "5qLr0bU8H5uN"
   },
   "outputs": [],
   "source": [
    "# importing necessary libraries\n",
    "import numpy as np\n",
    "from matplotlib import pyplot as plt\n",
    "from qiskit import *\n",
    "from qiskit.circuit import Parameter"
   ]
  },
  {
   "cell_type": "code",
   "execution_count": 2,
   "metadata": {
    "colab": {
     "base_uri": "https://localhost:8080/",
     "height": 218
    },
    "colab_type": "code",
    "id": "8lhYrBRU0_bM",
    "outputId": "3f37485f-3a9f-4dd7-f1df-ec7686638af8"
   },
   "outputs": [
    {
     "name": "stdout",
     "output_type": "stream",
     "text": [
      "pauli matrices:\n",
      "[[[ 1.+0.j  0.+0.j]\n",
      "  [ 0.+0.j  1.+0.j]]\n",
      "\n",
      " [[ 1.+0.j  0.+0.j]\n",
      "  [ 0.+0.j -1.+0.j]]\n",
      "\n",
      " [[ 0.+0.j  1.+0.j]\n",
      "  [ 1.+0.j  0.+0.j]]\n",
      "\n",
      " [[ 0.+0.j -0.-1.j]\n",
      "  [ 0.+1.j  0.+0.j]]]\n"
     ]
    }
   ],
   "source": [
    "# storing all Pauli matrices (i, z, x, y)\n",
    "pauli = np.array([[[1,0],[0,1]], [[1,0],[0,-1]], [[0,1],[1,0]], [[0,-1j],[1j,0]]])\n",
    "print('pauli matrices:')\n",
    "print(pauli)"
   ]
  },
  {
   "cell_type": "code",
   "execution_count": 3,
   "metadata": {
    "colab": {},
    "colab_type": "code",
    "id": "UUCxVcoU0_bn"
   },
   "outputs": [],
   "source": [
    "# finding kronecker product of Pauli matrices with themselves for creating hamiltonian\n",
    "ii = np.kron(pauli[0], pauli[0])\n",
    "zz = np.kron(pauli[1], pauli[1])\n",
    "xx = np.kron(pauli[2], pauli[2])\n",
    "yy = np.kron(pauli[3], pauli[3])"
   ]
  },
  {
   "cell_type": "code",
   "execution_count": 4,
   "metadata": {
    "colab": {
     "base_uri": "https://localhost:8080/",
     "height": 538
    },
    "colab_type": "code",
    "id": "SjrJTBGy0_bz",
    "outputId": "6fcf8df0-81b7-4ac3-8e98-07ae1fd1dd72"
   },
   "outputs": [
    {
     "name": "stdout",
     "output_type": "stream",
     "text": [
      "ii:\n",
      "eigenvalues:  [1.+0.j 1.+0.j 1.+0.j 1.+0.j] \n",
      "eigenvectors\n",
      " [[1.+0.j 0.+0.j 0.+0.j 0.+0.j]\n",
      " [0.+0.j 1.+0.j 0.+0.j 0.+0.j]\n",
      " [0.+0.j 0.+0.j 1.+0.j 0.+0.j]\n",
      " [0.+0.j 0.+0.j 0.+0.j 1.+0.j]]\n",
      "\n",
      "zz:\n",
      "eigenvalues:  [ 1.+0.j -1.+0.j -1.+0.j  1.-0.j] \n",
      "eigenvectors\n",
      " [[1.+0.j 0.+0.j 0.+0.j 0.+0.j]\n",
      " [0.+0.j 1.+0.j 0.+0.j 0.+0.j]\n",
      " [0.+0.j 0.+0.j 1.+0.j 0.+0.j]\n",
      " [0.+0.j 0.+0.j 0.+0.j 1.+0.j]]\n",
      "\n",
      "xx:\n",
      "eigenvalues:  [ 1.+0.j -1.+0.j  1.+0.j -1.+0.j] \n",
      "eigenvectors\n",
      " [[ 0.70710678-0.j  0.70710678+0.j -0.        -0.j -0.        -0.j]\n",
      " [-0.        -0.j  0.        +0.j  0.70710678+0.j  0.70710678+0.j]\n",
      " [-0.        -0.j  0.        +0.j  0.70710678-0.j -0.70710678-0.j]\n",
      " [ 0.70710678+0.j -0.70710678+0.j -0.        -0.j -0.        -0.j]]\n",
      "\n",
      "yy:\n",
      "eigenvalues:  [ 1.+0.j -1.+0.j  1.+0.j -1.+0.j] \n",
      "eigenvectors\n",
      " [[-0.70710678+0.j  0.70710678+0.j -0.        -0.j  0.        +0.j]\n",
      " [ 0.        +0.j  0.        +0.j  0.70710678+0.j  0.70710678+0.j]\n",
      " [ 0.        +0.j  0.        +0.j  0.70710678-0.j -0.70710678+0.j]\n",
      " [ 0.70710678+0.j  0.70710678+0.j -0.        -0.j  0.        +0.j]]\n"
     ]
    }
   ],
   "source": [
    "# Printing eigenvalues and eigenvectors of all component matrices\n",
    "print('ii:\\neigenvalues: ', np.linalg.eig(ii)[0], '\\neigenvectors\\n',np.linalg.eig(ii)[1])\n",
    "print()\n",
    "print('zz:\\neigenvalues: ', np.linalg.eig(zz)[0], '\\neigenvectors\\n',np.linalg.eig(zz)[1])\n",
    "print()\n",
    "print('xx:\\neigenvalues: ', np.linalg.eig(xx)[0], '\\neigenvectors\\n',np.linalg.eig(xx)[1])\n",
    "print()\n",
    "print('yy:\\neigenvalues: ', np.linalg.eig(yy)[0], '\\neigenvectors\\n',np.linalg.eig(yy)[1])"
   ]
  },
  {
   "cell_type": "code",
   "execution_count": 5,
   "metadata": {
    "colab": {},
    "colab_type": "code",
    "id": "Mmu38UCk0_b-"
   },
   "outputs": [],
   "source": [
    "# dictionary for mapping measurement outcome to \n",
    "# eigenvalues of component matrices of hamiltonian\n",
    "eig_values = [{'00':1, '01':1, '10':1, '11':1},\n",
    "              {'00':1, '01':-1, '10':-1, '11':1},\n",
    "              {'00':1, '01':-1, '10':-1, '11':1},\n",
    "              {'00':1, '01':-1, '10':-1, '11':1}]"
   ]
  },
  {
   "cell_type": "code",
   "execution_count": 6,
   "metadata": {
    "colab": {
     "base_uri": "https://localhost:8080/",
     "height": 101
    },
    "colab_type": "code",
    "id": "VFvFVx1wMTKF",
    "outputId": "8f40a3f3-1be8-4ccb-a7d5-5ea8fba31840"
   },
   "outputs": [
    {
     "name": "stdout",
     "output_type": "stream",
     "text": [
      "Hamiltonian whose eigenvalue is to be found:\n",
      "[[ 1.+0.j  0.+0.j  0.+0.j  0.+0.j]\n",
      " [ 0.+0.j  0.+0.j -1.+0.j  0.+0.j]\n",
      " [ 0.+0.j -1.+0.j  0.+0.j  0.+0.j]\n",
      " [ 0.+0.j  0.+0.j  0.+0.j  1.+0.j]]\n"
     ]
    }
   ],
   "source": [
    "# generating the Hamiltonian matrix\n",
    "print('Hamiltonian whose eigenvalue is to be found:')\n",
    "hamiltonian = 1/2*(ii + zz) - 1/2*(xx + yy)\n",
    "print(hamiltonian)\n",
    "\n",
    "# Creating a lambda expression for easy calculation of \n",
    "# expectation value of hamiltonian. Takes argument: a, list of \n",
    "# expectations of all components of hamiltonian matrix\n",
    "calculate_expectation = lambda a: 1/2*(a[0] + a[1]) - 1/2*(a[2] + a[3])"
   ]
  },
  {
   "cell_type": "code",
   "execution_count": 7,
   "metadata": {
    "colab": {
     "base_uri": "https://localhost:8080/",
     "height": 442
    },
    "colab_type": "code",
    "id": "505ahGQz0_ca",
    "outputId": "993a3b6c-5642-47f1-db13-87a3aded07fc"
   },
   "outputs": [
    {
     "data": {
      "image/png": "[encoded data removed]",
      "text/plain": [
       "<Figure size 479.192x204.68 with 1 Axes>"
      ]
     },
     "metadata": {},
     "output_type": "display_data"
    },
    {
     "data": {
      "image/png": "[encoded data removed]",
      "text/plain": [
       "<Figure size 479.192x204.68 with 1 Axes>"
      ]
     },
     "metadata": {},
     "output_type": "display_data"
    },
    {
     "data": {
      "image/png": "[encoded data removed]",
      "text/plain": [
       "<Figure size 539.392x204.68 with 1 Axes>"
      ]
     },
     "metadata": {},
     "output_type": "display_data"
    },
    {
     "data": {
      "image/png": "[encoded data removed]",
      "text/plain": [
       "<Figure size 599.592x204.68 with 1 Axes>"
      ]
     },
     "metadata": {},
     "output_type": "display_data"
    }
   ],
   "source": [
    "# Creating a list of circuits for each of the component matrices\n",
    "qc = [QuantumCircuit(2, 2) for _ in range(4)]\n",
    " \n",
    "# Creating parameter object to be fed to Rx in Ansatz\n",
    "param = Parameter('Ansatz')\n",
    " \n",
    "# Initializing Ansatz in all component circuits\n",
    "for i in range(4):  \n",
    "    qc[i].h(0)\n",
    "    qc[i].i(1)\n",
    "    qc[i].cx(0,1)\n",
    "    qc[i].rx(param, 0)\n",
    "    qc[i].i(1)\n",
    "    \n",
    "# Adding provisions for measurement in x basis\n",
    "qc[2].h([0,1])\n",
    "\n",
    "# Adding provisions for measurement in y basis\n",
    "qc[3].sdg([0,1])\n",
    "qc[3].h([0,1])\n",
    " \n",
    "# adding measurements and finally, displaying all circuits\n",
    "for i in range(4):\n",
    "    qc[i].measure([0,1],[0,1])\n",
    "    display(qc[i].draw('mpl'))"
   ]
  },
  {
   "cell_type": "code",
   "execution_count": 8,
   "metadata": {
    "colab": {},
    "colab_type": "code",
    "id": "DhUrngR50_cr",
    "scrolled": true
   },
   "outputs": [],
   "source": [
    "# The following parameters need to be set for running the algorithm:\n",
    "#    :num_angles : number of angles to search through\n",
    "#    :num_shots  : number of shots of each quantum circuit\n",
    " \n",
    "num_angles = 100\n",
    "num_shots = 100\n",
    " \n",
    "# creating a list of num_angles between 0 and 2π\n",
    "angles = np.linspace(0, 2*np.pi, num_angles)\n",
    " \n",
    "# we use qasm simulator to find the number of counts of each measurement outcome\n",
    "sim = Aer.get_backend('qasm_simulator')\n",
    " \n",
    "# executing all 4 circuits for every angle in list angles and store in list output\n",
    "output = []\n",
    "for i in angles:\n",
    "    out = []\n",
    "    for circuit in qc:\n",
    "        circuit = circuit.assign_parameters({param: i})\n",
    "        result = execute(circuit, sim, shots = num_shots).result()\n",
    "        out.append(result.get_counts(circuit))\n",
    "    output.append(out)"
   ]
  },
  {
   "cell_type": "code",
   "execution_count": 9,
   "metadata": {
    "colab": {
     "base_uri": "https://localhost:8080/",
     "height": 67
    },
    "colab_type": "code",
    "id": "vr_k3wiM0_c2",
    "outputId": "567f1560-26ff-4edb-efc2-682ecf3e321b",
    "scrolled": true
   },
   "outputs": [
    {
     "name": "stdout",
     "output_type": "stream",
     "text": [
      "Minimum eigenvalue:  -1.0\n",
      "Eigenvalue minimum at angle:  1.02π\n",
      "(note that the above angle corresponds to the final occurence of the minimum eigenvalue)\n"
     ]
    }
   ],
   "source": [
    "# finding the minimum expectation value of the Hamiltonian using the\n",
    "# list output (measurement outcomes) from previous cell.\n",
    " \n",
    "# first, for every angle, average of measurement output, mapped to the\n",
    "# eigenvalue of the respective component is found. \n",
    "# The average values are substituted in the equation of the Hamiltonian (using lambda expression \n",
    "# calculate_expectation). This gives the expectation value of the whole Hamiltonian for that angle. \n",
    " \n",
    "# The value of the expectations of the Hamiltonian are stored in list final.\n",
    " \n",
    "# The minimum value of the expectation of the Hamiltonian is stored in \n",
    "# min_eigen and the index of the final occurence of the minimum eigenvalue \n",
    "# (corresponding to the list output) is stored in min_eigen_index.\n",
    " \n",
    "final = []\n",
    "min_eigen = 100\n",
    " \n",
    "for i in range(num_angles):\n",
    "    out2 = []\n",
    "    for j in range(4):\n",
    "        avg = 0\n",
    "        for key, value in output[i][j].items():\n",
    "            avg += eig_values[j][key]*value\n",
    "        out2.append(avg/num_shots)\n",
    " \n",
    "    final.append(calculate_expectation(out2))\n",
    "    if final[-1] <= min_eigen:\n",
    "        min_eigen = final[-1]\n",
    "        min_eigen_index = i\n",
    "\n",
    "min_angle = str(2*min_eigen_index/num_angles)+'\\u03C0'\n",
    "print('Minimum eigenvalue: ', min_eigen)\n",
    "print('Eigenvalue minimum at angle: ', min_angle)\n",
    "print(\"(note that the above angle corresponds to the final occurence of the minimum eigenvalue)\")"
   ]
  },
  {
   "cell_type": "code",
   "execution_count": 10,
   "metadata": {
    "colab": {
     "base_uri": "https://localhost:8080/",
     "height": 265
    },
    "colab_type": "code",
    "id": "khGM2nsH2nae",
    "outputId": "4e478253-1a52-469e-f2f4-ca6dfa3310ef"
   },
   "outputs": [
    {
     "data": {
      "image/png": "[encoded data removed]",
      "text/plain": [
       "<Figure size 432x288 with 1 Axes>"
      ]
     },
     "metadata": {
      "needs_background": "light"
     },
     "output_type": "display_data"
    }
   ],
   "source": [
    "# Plotting the expectations of the Hamiltonian and marking\n",
    "# the minimum eigenvalue point (last occurence of min. eigenvalue)  \n",
    "# on the plot along with the parameter of the Ansatz used.\n",
    " \n",
    "plt.plot(angles, final)\n",
    "plt.plot(angles[min_eigen_index], min_eigen, 'ro')\n",
    "plt.text(angles[min_eigen_index], min_eigen, '   '+min_angle)\n",
    "plt.show()"
   ]
  },
  {
   "cell_type": "markdown",
   "metadata": {
    "colab_type": "text",
    "id": "34drhnNbsTXA"
   },
   "source": [
    "# Interpreting the results:\n",
    "The ansatz ((Rx I) CX (HI) |00>) first forms the bell state in the CX(HI)|00> step. \n",
    "\n",
    "The state of the system is now ``|00> + |11>``\n",
    "\n",
    "\n",
    "The (Rx I) is then used to vary the qubit 0 to search for Ψ corresponding to the minimum eigenvalue of the hamiltonian. \n",
    "\n",
    "The above result shows that the optimal value of parameter of Rx is ≈ π. \n",
    "\n",
    "So, applying the Rx gate on the qubit 0 of the bell state, with angle π, basically flips the qubit, resulting in state:\n",
    "``|01> + |10>`` which is another bell state. \n",
    "\n",
    "So below, is a proof of the above claim by creating the ``|01> + |10>`` state and making measurements, without any parameter being involved."
   ]
  },
  {
   "cell_type": "code",
   "execution_count": 11,
   "metadata": {
    "colab": {
     "base_uri": "https://localhost:8080/",
     "height": 442
    },
    "colab_type": "code",
    "id": "SDbbLiKVodi7",
    "outputId": "a39f4fd9-6675-4874-edea-d7796bed4e14"
   },
   "outputs": [
    {
     "data": {
      "image/png": "[encoded data removed]",
      "text/plain": [
       "<Figure size 418.992x204.68 with 1 Axes>"
      ]
     },
     "metadata": {},
     "output_type": "display_data"
    },
    {
     "data": {
      "image/png": "[encoded data removed]",
      "text/plain": [
       "<Figure size 418.992x204.68 with 1 Axes>"
      ]
     },
     "metadata": {},
     "output_type": "display_data"
    },
    {
     "data": {
      "image/png": "[encoded data removed]",
      "text/plain": [
       "<Figure size 479.192x204.68 with 1 Axes>"
      ]
     },
     "metadata": {},
     "output_type": "display_data"
    },
    {
     "data": {
      "image/png": "[encoded data removed]",
      "text/plain": [
       "<Figure size 539.392x204.68 with 1 Axes>"
      ]
     },
     "metadata": {},
     "output_type": "display_data"
    }
   ],
   "source": [
    "qc1 = [QuantumCircuit(2, 2) for _ in range(4)]\n",
    " \n",
    "# Initializing all component circuits to state |01> + |10>\n",
    "for i in range(4):\n",
    "    qc1[i].x(1)\n",
    "    qc1[i].h(0)\n",
    "    qc1[i].cx(0,1)\n",
    "    \n",
    "# Adding provisions for measurement in x basis\n",
    "qc1[2].h([0,1])\n",
    "\n",
    "# Adding provisions for measurement in y basis\n",
    "qc1[3].sdg([0,1])\n",
    "qc1[3].h([0,1])\n",
    " \n",
    "# adding measurements and finally, displaying all circuits\n",
    "for i in range(4):\n",
    "    qc1[i].measure([0,1],[0,1])\n",
    "    display(qc1[i].draw('mpl'))"
   ]
  },
  {
   "cell_type": "code",
   "execution_count": 12,
   "metadata": {
    "colab": {
     "base_uri": "https://localhost:8080/",
     "height": 34
    },
    "colab_type": "code",
    "id": "AdRElU9Wos03",
    "outputId": "effd60ab-e2d4-4caa-997d-76376cb3f641"
   },
   "outputs": [
    {
     "name": "stdout",
     "output_type": "stream",
     "text": [
      "The measurement outcomes by running the 4 circuits are:\n",
      "[{'10': 44, '01': 56}, {'10': 46, '01': 54}, {'00': 46, '11': 54}, {'00': 58, '11': 42}]\n"
     ]
    }
   ],
   "source": [
    "num_shots = 100\n",
    "outputs = []\n",
    "for circuit in qc1:\n",
    "    result = execute(circuit, sim, shots = num_shots).result()\n",
    "    outputs.append(result.get_counts(circuit))\n",
    "print('The measurement outcomes by running the 4 circuits are:')\n",
    "print(outputs)"
   ]
  },
  {
   "cell_type": "code",
   "execution_count": 13,
   "metadata": {
    "colab": {
     "base_uri": "https://localhost:8080/",
     "height": 34
    },
    "colab_type": "code",
    "id": "Gv0Ds1ghp0aD",
    "outputId": "3d440eb5-e25e-47e3-ce94-f9530ca8df2d"
   },
   "outputs": [
    {
     "name": "stdout",
     "output_type": "stream",
     "text": [
      "predicted  eigenvalue = -1.0\n"
     ]
    }
   ],
   "source": [
    "out3 = []\n",
    "for j in range(4):\n",
    "    avg = 0\n",
    "    for key, value in outputs[j].items():\n",
    "        avg += eig_values[j][key]*value\n",
    "    out3.append(avg/num_shots)\n",
    "print('predicted  eigenvalue =', calculate_expectation(out3))"
   ]
  },
  {
   "cell_type": "markdown",
   "metadata": {
    "colab_type": "text",
    "id": "Uf81cEndHFNk"
   },
   "source": [
    "The above result hence proves our claim."
   ]
  },
  {
   "cell_type": "markdown",
   "metadata": {},
   "source": [
    "# Verifying the answer\n",
    "\n",
    "We will now verify the answer obtained above by finding the eigenvalue using classical methods."
   ]
  },
  {
   "cell_type": "code",
   "execution_count": 14,
   "metadata": {},
   "outputs": [
    {
     "name": "stdout",
     "output_type": "stream",
     "text": [
      "eigenvalues:  [-1.  1.  1.  1.] \n",
      "eigenvectors\n",
      " [[-0.        +0.j  0.        +0.j  1.        +0.j  0.        +0.j]\n",
      " [-0.70710678+0.j -0.70710678+0.j  0.        +0.j  0.        +0.j]\n",
      " [-0.70710678+0.j  0.70710678+0.j  0.        +0.j  0.        +0.j]\n",
      " [-0.        +0.j  0.        +0.j  0.        +0.j  1.        +0.j]]\n",
      "\n",
      "minimum eigenvalue =  -1.0\n"
     ]
    }
   ],
   "source": [
    "eigenvalues, eigenvectors = np.linalg.eigh(hamiltonian)\n",
    "print('eigenvalues: ', eigenvalues, '\\neigenvectors\\n',eigenvectors)\n",
    "print()\n",
    "print('minimum eigenvalue = ', min(eigenvalues))"
   ]
  },
  {
   "cell_type": "markdown",
   "metadata": {},
   "source": [
    "Thus, we see that the quantum and classical results are consistent with each other."
   ]
  }
 ],
 "metadata": {
  "colab": {
   "collapsed_sections": [],
   "name": "VQE try3.ipynb",
   "provenance": []
  },
  "kernelspec": {
   "display_name": "Python 3",
   "language": "python",
   "name": "python3"
  },
  "language_info": {
   "codemirror_mode": {
    "name": "ipython",
    "version": 3
   },
   "file_extension": ".py",
   "mimetype": "text/x-python",
   "name": "python",
   "nbconvert_exporter": "python",
   "pygments_lexer": "ipython3",
   "version": "3.7.6"
  }
 },
 "nbformat": 4,
 "nbformat_minor": 4
}
