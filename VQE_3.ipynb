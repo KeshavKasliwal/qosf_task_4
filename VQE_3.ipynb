{
 "cells": [
  {
   "cell_type": "code",
   "execution_count": 100,
   "metadata": {},
   "outputs": [],
   "source": [
    "import numpy as np\n",
    "pauli = np.array([[[1,0],[0,1]], [[1,0],[0,-1]], [[0,1],[1,0]], [[0,-1j],[1j,0]]])"
   ]
  },
  {
   "cell_type": "code",
   "execution_count": 80,
   "metadata": {},
   "outputs": [
    {
     "data": {
      "text/plain": [
       "array([[[ 1.+0.j,  0.+0.j],\n",
       "        [ 0.+0.j,  1.+0.j]],\n",
       "\n",
       "       [[ 1.+0.j,  0.+0.j],\n",
       "        [ 0.+0.j, -1.+0.j]],\n",
       "\n",
       "       [[ 0.+0.j,  1.+0.j],\n",
       "        [ 1.+0.j,  0.+0.j]],\n",
       "\n",
       "       [[ 0.+0.j, -0.-1.j],\n",
       "        [ 0.+1.j,  0.+0.j]]])"
      ]
     },
     "execution_count": 80,
     "metadata": {},
     "output_type": "execute_result"
    }
   ],
   "source": [
    "pauli"
   ]
  },
  {
   "cell_type": "code",
   "execution_count": 81,
   "metadata": {},
   "outputs": [
    {
     "name": "stdout",
     "output_type": "stream",
     "text": [
      "[[1.+0.j 0.+0.j 0.+0.j 0.+0.j]\n",
      " [0.+0.j 1.+0.j 0.+0.j 0.+0.j]\n",
      " [0.+0.j 0.+0.j 1.+0.j 0.+0.j]\n",
      " [0.+0.j 0.+0.j 0.+0.j 1.+0.j]]\n",
      "\n",
      "[[ 1.+0.j  0.+0.j  0.+0.j  0.+0.j]\n",
      " [ 0.+0.j -1.+0.j  0.+0.j -0.+0.j]\n",
      " [ 0.+0.j  0.+0.j -1.+0.j -0.+0.j]\n",
      " [ 0.+0.j -0.+0.j -0.+0.j  1.-0.j]]\n",
      "\n",
      "[[0.+0.j 0.+0.j 0.+0.j 1.+0.j]\n",
      " [0.+0.j 0.+0.j 1.+0.j 0.+0.j]\n",
      " [0.+0.j 1.+0.j 0.+0.j 0.+0.j]\n",
      " [1.+0.j 0.+0.j 0.+0.j 0.+0.j]]\n",
      "\n",
      "[[ 0.+0.j  0.-0.j  0.-0.j -1.+0.j]\n",
      " [ 0.+0.j  0.+0.j  1.-0.j  0.-0.j]\n",
      " [ 0.+0.j  1.-0.j  0.+0.j  0.-0.j]\n",
      " [-1.+0.j  0.+0.j  0.+0.j  0.+0.j]]\n",
      "\n"
     ]
    }
   ],
   "source": [
    "pauli_combinations = []\n",
    "for i in pauli:\n",
    "    pauli_combinations.append(np.kron(i, i))\n",
    "    print(np.kron(i, i))\n",
    "    print()"
   ]
  },
  {
   "cell_type": "code",
   "execution_count": 82,
   "metadata": {},
   "outputs": [],
   "source": [
    "ii = pauli_combinations[0]\n",
    "zz = pauli_combinations[1]\n",
    "xx = pauli_combinations[2]\n",
    "yy = pauli_combinations[3]"
   ]
  },
  {
   "cell_type": "code",
   "execution_count": 83,
   "metadata": {},
   "outputs": [
    {
     "name": "stdout",
     "output_type": "stream",
     "text": [
      "ii:\n",
      "eigenvalues:  [1.+0.j 1.+0.j 1.+0.j 1.+0.j] \n",
      "eigenvectors\n",
      " [[1.+0.j 0.+0.j 0.+0.j 0.+0.j]\n",
      " [0.+0.j 1.+0.j 0.+0.j 0.+0.j]\n",
      " [0.+0.j 0.+0.j 1.+0.j 0.+0.j]\n",
      " [0.+0.j 0.+0.j 0.+0.j 1.+0.j]]\n",
      "\n",
      "zz:\n",
      "eigenvalues:  [ 1.+0.j -1.+0.j -1.+0.j  1.-0.j] \n",
      "eigenvectors\n",
      " [[1.+0.j 0.+0.j 0.+0.j 0.+0.j]\n",
      " [0.+0.j 1.+0.j 0.+0.j 0.+0.j]\n",
      " [0.+0.j 0.+0.j 1.+0.j 0.+0.j]\n",
      " [0.+0.j 0.+0.j 0.+0.j 1.+0.j]]\n",
      "\n",
      "xx:\n",
      "eigenvalues:  [ 1.+0.j -1.+0.j  1.+0.j -1.+0.j] \n",
      "eigenvectors\n",
      " [[ 0.70710678-0.j  0.70710678+0.j -0.        -0.j -0.        -0.j]\n",
      " [-0.        -0.j  0.        +0.j  0.70710678+0.j  0.70710678+0.j]\n",
      " [-0.        -0.j  0.        +0.j  0.70710678-0.j -0.70710678-0.j]\n",
      " [ 0.70710678+0.j -0.70710678+0.j -0.        -0.j -0.        -0.j]]\n",
      "\n",
      "yy:\n",
      "eigenvalues:  [ 1.+0.j -1.+0.j  1.+0.j -1.+0.j] \n",
      "eigenvectors\n",
      " [[-0.70710678+0.j  0.70710678+0.j -0.        -0.j  0.        +0.j]\n",
      " [ 0.        +0.j  0.        +0.j  0.70710678+0.j  0.70710678+0.j]\n",
      " [ 0.        +0.j  0.        +0.j  0.70710678-0.j -0.70710678+0.j]\n",
      " [ 0.70710678+0.j  0.70710678+0.j -0.        -0.j  0.        +0.j]]\n"
     ]
    }
   ],
   "source": [
    "print('ii:\\neigenvalues: ', np.linalg.eig(ii)[0], '\\neigenvectors\\n',np.linalg.eig(ii)[1])\n",
    "print()\n",
    "print('zz:\\neigenvalues: ', np.linalg.eig(zz)[0], '\\neigenvectors\\n',np.linalg.eig(zz)[1])\n",
    "print()\n",
    "print('xx:\\neigenvalues: ', np.linalg.eig(xx)[0], '\\neigenvectors\\n',np.linalg.eig(xx)[1])\n",
    "print()\n",
    "print('yy:\\neigenvalues: ', np.linalg.eig(yy)[0], '\\neigenvectors\\n',np.linalg.eig(yy)[1])"
   ]
  },
  {
   "cell_type": "code",
   "execution_count": 84,
   "metadata": {},
   "outputs": [],
   "source": [
    "eig_values = [{'00':1, '01':1, '10':1, '11':1},\n",
    "              {'00':1, '01':-1, '10':-1, '11':1},\n",
    "              {'00':1, '01':-1, '10':-1, '11':1},\n",
    "              {'00':1, '01':-1, '10':-1, '11':1}]"
   ]
  },
  {
   "cell_type": "code",
   "execution_count": 101,
   "metadata": {},
   "outputs": [],
   "source": [
    "from qiskit import *"
   ]
  },
  {
   "cell_type": "code",
   "execution_count": 116,
   "metadata": {},
   "outputs": [
    {
     "data": {
      "image/png": "[encoded data removed]",
      "text/plain": [
       "<Figure size 479.192x204.68 with 1 Axes>"
      ]
     },
     "metadata": {},
     "output_type": "display_data"
    },
    {
     "data": {
      "image/png": "[encoded data removed]",
      "text/plain": [
       "<Figure size 479.192x204.68 with 1 Axes>"
      ]
     },
     "metadata": {},
     "output_type": "display_data"
    },
    {
     "data": {
      "image/png": "[encoded data removed]",
      "text/plain": [
       "<Figure size 539.392x204.68 with 1 Axes>"
      ]
     },
     "metadata": {},
     "output_type": "display_data"
    },
    {
     "data": {
      "image/png": "[encoded data removed]",
      "text/plain": [
       "<Figure size 599.592x204.68 with 1 Axes>"
      ]
     },
     "metadata": {},
     "output_type": "display_data"
    }
   ],
   "source": [
    "qc = [QuantumCircuit(2, 2) for _ in range(4)]\n",
    "param = qiskit.circuit.Parameter('Ansatz')\n",
    "# for _ in range(reps):\n",
    "for i in range(4):  \n",
    "    qc[i].h(0)\n",
    "    qc[i].i(1)\n",
    "    qc[i].cx(0,1)\n",
    "    qc[i].rx(param, 0)\n",
    "    qc[i].i(1)\n",
    "\n",
    "qc[2].h([0,1])\n",
    "qc[3].sdg([0,1])\n",
    "qc[3].h([0,1])\n",
    "\n",
    "\n",
    "for i in range(4):\n",
    "    qc[i].measure([0,1],[0,1])\n",
    "    display(qc[i].draw('mpl'))"
   ]
  },
  {
   "cell_type": "code",
   "execution_count": 117,
   "metadata": {
    "scrolled": true
   },
   "outputs": [
    {
     "name": "stdout",
     "output_type": "stream",
     "text": [
      "[{'00': 59, '11': 41}, {'00': 53, '11': 47}, {'00': 48, '11': 52}, {'01': 51, '10': 49}]\n",
      "[{'00': 61, '11': 39}, {'00': 50, '11': 50}, {'00': 45, '11': 55}, {'01': 51, '10': 49}]\n",
      "[{'00': 43, '11': 57}, {'00': 49, '11': 51}, {'00': 56, '11': 44}, {'01': 55, '10': 45}]\n",
      "[{'00': 42, '11': 58}, {'00': 47, '11': 51, '01': 2}, {'00': 52, '11': 48}, {'01': 63, '10': 37}]\n",
      "[{'00': 51, '11': 46, '10': 3}, {'00': 47, '11': 49, '01': 2, '10': 2}, {'00': 44, '11': 56}, {'00': 1, '11': 1, '01': 53, '10': 45}]\n",
      "[{'00': 57, '11': 42, '10': 1}, {'00': 55, '11': 44, '10': 1}, {'00': 47, '11': 53}, {'01': 49, '11': 1, '10': 50}]\n",
      "[{'00': 45, '11': 50, '01': 3, '10': 2}, {'00': 43, '11': 53, '01': 3, '10': 1}, {'00': 55, '11': 45}, {'00': 3, '11': 2, '01': 41, '10': 54}]\n",
      "[{'00': 48, '11': 47, '01': 3, '10': 2}, {'00': 56, '11': 40, '01': 1, '10': 3}, {'00': 47, '11': 53}, {'00': 2, '11': 3, '01': 47, '10': 48}]\n",
      "[{'00': 39, '11': 57, '01': 4}, {'00': 41, '11': 55, '01': 2, '10': 2}, {'00': 56, '11': 44}, {'00': 2, '11': 7, '01': 50, '10': 41}]\n",
      "[{'00': 48, '11': 45, '01': 3, '10': 4}, {'00': 48, '11': 43, '01': 4, '10': 5}, {'00': 42, '11': 58}, {'00': 5, '11': 2, '01': 33, '10': 60}]\n",
      "[{'00': 46, '11': 44, '01': 6, '10': 4}, {'00': 33, '11': 53, '01': 8, '10': 6}, {'00': 46, '11': 54}, {'00': 6, '11': 3, '01': 45, '10': 46}]\n",
      "[{'00': 45, '11': 45, '01': 4, '10': 6}, {'00': 47, '11': 37, '01': 6, '10': 10}, {'00': 54, '11': 46}, {'00': 1, '11': 10, '01': 39, '10': 50}]\n",
      "[{'00': 41, '11': 42, '01': 8, '10': 9}, {'00': 49, '11': 42, '01': 5, '10': 4}, {'00': 53, '11': 47}, {'00': 6, '11': 6, '01': 35, '10': 53}]\n",
      "[{'00': 46, '11': 42, '01': 7, '10': 5}, {'00': 42, '11': 44, '01': 7, '10': 7}, {'00': 40, '11': 60}, {'00': 8, '11': 9, '01': 39, '10': 44}]\n",
      "[{'00': 40, '11': 38, '01': 10, '10': 12}, {'00': 31, '11': 48, '01': 6, '10': 15}, {'00': 49, '11': 51}, {'00': 8, '11': 12, '01': 33, '10': 47}]\n",
      "[{'00': 35, '11': 39, '01': 16, '10': 10}, {'00': 42, '11': 36, '01': 9, '10': 13}, {'00': 47, '11': 53}, {'00': 9, '11': 7, '01': 43, '10': 41}]\n",
      "[{'00': 33, '11': 40, '01': 13, '10': 14}, {'00': 40, '11': 37, '01': 11, '10': 12}, {'00': 55, '11': 45}, {'00': 8, '11': 20, '01': 42, '10': 30}]\n",
      "[{'00': 40, '11': 36, '01': 16, '10': 8}, {'00': 36, '11': 37, '01': 16, '10': 11}, {'00': 50, '11': 50}, {'00': 11, '11': 18, '01': 38, '10': 33}]\n",
      "[{'00': 35, '11': 41, '01': 12, '10': 12}, {'00': 33, '11': 35, '01': 18, '10': 14}, {'00': 48, '11': 52}, {'00': 16, '11': 16, '01': 37, '10': 31}]\n",
      "[{'00': 38, '11': 29, '01': 10, '10': 23}, {'00': 31, '11': 38, '01': 16, '10': 15}, {'00': 49, '11': 51}, {'00': 11, '11': 18, '01': 31, '10': 40}]\n",
      "[{'00': 36, '11': 28, '01': 17, '10': 19}, {'00': 34, '11': 36, '01': 12, '10': 18}, {'00': 49, '11': 51}, {'00': 15, '11': 12, '01': 36, '10': 37}]\n",
      "[{'00': 19, '11': 42, '01': 21, '10': 18}, {'00': 28, '11': 33, '01': 19, '10': 20}, {'00': 49, '11': 51}, {'00': 22, '11': 19, '01': 28, '10': 31}]\n",
      "[{'00': 23, '11': 31, '01': 24, '10': 22}, {'00': 36, '11': 28, '01': 18, '10': 18}, {'00': 53, '11': 47}, {'00': 18, '11': 17, '01': 33, '10': 32}]\n",
      "[{'00': 38, '11': 28, '01': 18, '10': 16}, {'00': 38, '11': 26, '01': 19, '10': 17}, {'00': 53, '11': 47}, {'00': 17, '11': 24, '01': 33, '10': 26}]\n",
      "[{'00': 20, '11': 30, '01': 28, '10': 22}, {'00': 23, '11': 29, '01': 27, '10': 21}, {'00': 49, '11': 51}, {'00': 25, '11': 27, '01': 25, '10': 23}]\n",
      "[{'00': 34, '11': 21, '01': 25, '10': 20}, {'00': 24, '11': 23, '01': 29, '10': 24}, {'00': 50, '11': 50}, {'00': 28, '11': 26, '01': 23, '10': 23}]\n",
      "[{'00': 23, '11': 29, '01': 26, '10': 22}, {'00': 20, '11': 25, '01': 26, '10': 29}, {'00': 51, '11': 49}, {'00': 25, '11': 39, '01': 15, '10': 21}]\n",
      "[{'00': 31, '11': 17, '01': 24, '10': 28}, {'00': 29, '11': 16, '01': 32, '10': 23}, {'00': 53, '11': 47}, {'00': 34, '11': 26, '01': 21, '10': 19}]\n",
      "[{'00': 17, '11': 19, '01': 34, '10': 30}, {'00': 20, '11': 19, '01': 28, '10': 33}, {'00': 42, '11': 58}, {'00': 18, '11': 41, '01': 20, '10': 21}]\n",
      "[{'00': 24, '11': 15, '01': 28, '10': 33}, {'00': 22, '11': 19, '01': 32, '10': 27}, {'00': 50, '11': 50}, {'00': 28, '11': 33, '01': 16, '10': 23}]\n",
      "[{'00': 17, '11': 14, '01': 38, '10': 31}, {'00': 18, '11': 18, '01': 34, '10': 30}, {'00': 45, '11': 55}, {'00': 37, '11': 33, '01': 15, '10': 15}]\n",
      "[{'00': 15, '11': 10, '01': 28, '10': 47}, {'00': 17, '11': 19, '01': 37, '10': 27}, {'00': 44, '11': 56}, {'00': 33, '11': 35, '01': 17, '10': 15}]\n",
      "[{'00': 11, '11': 11, '01': 35, '10': 43}, {'00': 16, '11': 11, '01': 35, '10': 38}, {'00': 56, '11': 44}, {'00': 43, '11': 36, '01': 10, '10': 11}]\n",
      "[{'00': 16, '11': 6, '01': 36, '10': 42}, {'00': 8, '11': 13, '01': 42, '10': 37}, {'00': 49, '11': 51}, {'00': 37, '11': 34, '01': 14, '10': 15}]\n",
      "[{'00': 13, '11': 5, '01': 46, '10': 36}, {'00': 11, '11': 15, '01': 46, '10': 28}, {'00': 58, '11': 42}, {'00': 47, '11': 34, '01': 12, '10': 7}]\n",
      "[{'00': 8, '11': 14, '01': 36, '10': 42}, {'00': 7, '11': 15, '01': 44, '10': 34}, {'00': 48, '11': 52}, {'00': 37, '11': 46, '01': 12, '10': 5}]\n",
      "[{'00': 8, '11': 9, '01': 37, '10': 46}, {'00': 10, '11': 7, '01': 47, '10': 36}, {'00': 46, '11': 54}, {'00': 39, '11': 37, '01': 10, '10': 14}]\n",
      "[{'00': 11, '11': 6, '01': 53, '10': 30}, {'00': 8, '11': 6, '01': 38, '10': 48}, {'00': 43, '11': 57}, {'00': 41, '11': 42, '01': 7, '10': 10}]\n",
      "[{'00': 6, '11': 5, '01': 50, '10': 39}, {'00': 7, '11': 8, '01': 42, '10': 43}, {'00': 51, '11': 49}, {'00': 36, '11': 51, '01': 10, '10': 3}]\n",
      "[{'00': 5, '11': 4, '01': 45, '10': 46}, {'00': 3, '11': 6, '01': 50, '10': 41}, {'00': 46, '11': 54}, {'00': 34, '11': 53, '01': 7, '10': 6}]\n",
      "[{'00': 7, '11': 1, '01': 45, '10': 47}, {'00': 2, '11': 3, '01': 47, '10': 48}, {'00': 48, '11': 52}, {'00': 41, '11': 52, '01': 4, '10': 3}]\n",
      "[{'00': 2, '11': 1, '01': 53, '10': 44}, {'00': 3, '11': 3, '01': 44, '10': 50}, {'00': 58, '11': 42}, {'00': 53, '11': 44, '01': 1, '10': 2}]\n",
      "[{'00': 1, '11': 1, '01': 39, '10': 59}, {'00': 2, '11': 1, '01': 52, '10': 45}, {'00': 54, '11': 46}, {'00': 41, '11': 52, '01': 3, '10': 4}]\n",
      "[{'01': 44, '11': 4, '10': 52}, {'00': 2, '11': 2, '01': 45, '10': 51}, {'00': 47, '11': 53}, {'00': 55, '11': 44, '10': 1}]\n",
      "[{'01': 48, '11': 2, '10': 50}, {'00': 4, '11': 1, '01': 49, '10': 46}, {'00': 52, '11': 48}, {'00': 52, '11': 47, '10': 1}]\n",
      "[{'00': 2, '11': 1, '01': 45, '10': 52}, {'00': 2, '11': 1, '01': 49, '10': 48}, {'00': 48, '11': 52}, {'00': 43, '11': 56, '01': 1}]\n",
      "[{'00': 1, '01': 52, '10': 47}, {'00': 1, '11': 1, '01': 52, '10': 46}, {'00': 46, '11': 54}, {'00': 53, '11': 47}]\n",
      "[{'01': 43, '11': 1, '10': 56}, {'01': 51, '10': 49}, {'00': 57, '11': 43}, {'00': 48, '11': 52}]\n",
      "[{'01': 51, '10': 49}, {'01': 54, '10': 46}, {'00': 47, '11': 53}, {'00': 44, '11': 56}]\n",
      "[{'01': 39, '10': 61}, {'01': 48, '11': 1, '10': 51}, {'00': 48, '11': 52}, {'00': 46, '11': 54}]\n",
      "[{'01': 44, '10': 56}, {'01': 49, '10': 51}, {'00': 43, '11': 57}, {'00': 52, '11': 48}]\n",
      "[{'01': 39, '10': 61}, {'00': 1, '01': 54, '10': 45}, {'00': 52, '11': 48}, {'00': 53, '11': 47}]\n",
      "[{'00': 2, '01': 45, '10': 53}, {'00': 1, '01': 45, '10': 54}, {'00': 55, '11': 45}, {'00': 53, '11': 47}]\n",
      "[{'01': 57, '11': 3, '10': 40}, {'00': 1, '01': 51, '10': 48}, {'00': 48, '11': 52}, {'00': 51, '11': 48, '01': 1}]\n",
      "[{'00': 2, '11': 4, '01': 40, '10': 54}, {'00': 1, '11': 2, '01': 51, '10': 46}, {'00': 53, '11': 47}, {'00': 45, '11': 52, '01': 2, '10': 1}]\n",
      "[{'00': 2, '11': 2, '01': 53, '10': 43}, {'00': 2, '11': 1, '01': 58, '10': 39}, {'00': 51, '11': 49}, {'00': 46, '11': 52, '10': 2}]\n",
      "[{'00': 5, '11': 2, '01': 48, '10': 45}, {'01': 56, '11': 3, '10': 41}, {'00': 50, '11': 50}, {'00': 55, '11': 39, '01': 2, '10': 4}]\n",
      "[{'00': 4, '11': 3, '01': 47, '10': 46}, {'00': 3, '11': 3, '01': 43, '10': 51}, {'00': 56, '11': 44}, {'00': 47, '11': 50, '01': 1, '10': 2}]\n",
      "[{'00': 1, '11': 3, '01': 52, '10': 44}, {'00': 1, '11': 6, '01': 44, '10': 49}, {'00': 49, '11': 51}, {'00': 48, '11': 41, '01': 7, '10': 4}]\n",
      "[{'00': 2, '11': 1, '01': 51, '10': 46}, {'00': 5, '11': 3, '01': 45, '10': 47}, {'00': 53, '11': 47}, {'00': 50, '11': 39, '01': 9, '10': 2}]\n",
      "[{'00': 4, '11': 5, '01': 42, '10': 49}, {'00': 3, '11': 2, '01': 46, '10': 49}, {'00': 57, '11': 43}, {'00': 36, '11': 54, '01': 6, '10': 4}]\n",
      "[{'00': 2, '11': 15, '01': 44, '10': 39}, {'00': 5, '11': 6, '01': 50, '10': 39}, {'00': 53, '11': 47}, {'00': 43, '11': 48, '01': 6, '10': 3}]\n",
      "[{'00': 4, '11': 11, '01': 49, '10': 36}, {'00': 6, '11': 11, '01': 40, '10': 43}, {'00': 49, '11': 51}, {'00': 46, '11': 26, '01': 9, '10': 19}]\n",
      "[{'00': 4, '11': 8, '01': 39, '10': 49}, {'00': 5, '11': 10, '01': 39, '10': 46}, {'00': 43, '11': 57}, {'00': 45, '11': 36, '01': 10, '10': 9}]\n",
      "[{'00': 14, '11': 8, '01': 42, '10': 36}, {'00': 6, '11': 10, '01': 46, '10': 38}, {'00': 46, '11': 54}, {'00': 40, '11': 32, '01': 11, '10': 17}]\n",
      "[{'00': 12, '11': 10, '01': 40, '10': 38}, {'00': 8, '11': 9, '01': 38, '10': 45}, {'00': 56, '11': 44}, {'00': 42, '11': 35, '01': 12, '10': 11}]\n",
      "[{'00': 12, '11': 18, '01': 37, '10': 33}, {'00': 11, '11': 8, '01': 39, '10': 42}, {'00': 49, '11': 51}, {'00': 34, '11': 36, '01': 18, '10': 12}]\n",
      "[{'00': 18, '11': 10, '01': 35, '10': 37}, {'00': 13, '11': 14, '01': 40, '10': 33}, {'00': 47, '11': 53}, {'00': 42, '11': 39, '01': 6, '10': 13}]\n",
      "[{'00': 22, '11': 13, '01': 38, '10': 27}, {'00': 14, '11': 18, '01': 31, '10': 37}, {'00': 50, '11': 50}, {'00': 36, '11': 32, '01': 15, '10': 17}]\n",
      "[{'00': 22, '11': 14, '01': 36, '10': 28}, {'00': 14, '11': 18, '01': 31, '10': 37}, {'00': 55, '11': 45}, {'00': 31, '11': 30, '01': 23, '10': 16}]\n",
      "[{'00': 21, '11': 14, '01': 38, '10': 27}, {'00': 19, '11': 21, '01': 27, '10': 33}, {'00': 54, '11': 46}, {'00': 29, '11': 32, '01': 20, '10': 19}]\n",
      "[{'00': 19, '11': 20, '01': 25, '10': 36}, {'00': 23, '11': 15, '01': 20, '10': 42}, {'00': 49, '11': 51}, {'00': 36, '11': 28, '01': 14, '10': 22}]\n",
      "[{'00': 25, '11': 19, '01': 25, '10': 31}, {'00': 28, '11': 20, '01': 23, '10': 29}, {'00': 42, '11': 58}, {'00': 22, '11': 24, '01': 28, '10': 26}]\n",
      "[{'00': 16, '11': 36, '01': 26, '10': 22}, {'00': 22, '11': 23, '01': 32, '10': 23}, {'00': 51, '11': 49}, {'00': 25, '11': 26, '01': 30, '10': 19}]\n",
      "[{'00': 24, '11': 25, '01': 32, '10': 19}, {'00': 25, '11': 25, '01': 23, '10': 27}, {'00': 58, '11': 42}, {'00': 30, '11': 23, '01': 21, '10': 26}]\n",
      "[{'00': 22, '11': 30, '01': 22, '10': 26}, {'00': 25, '11': 25, '01': 24, '10': 26}, {'00': 50, '11': 50}, {'00': 29, '11': 24, '01': 13, '10': 34}]\n",
      "[{'00': 21, '11': 28, '01': 27, '10': 24}, {'00': 27, '11': 27, '01': 23, '10': 23}, {'00': 52, '11': 48}, {'00': 25, '11': 21, '01': 29, '10': 25}]\n",
      "[{'00': 30, '11': 19, '01': 26, '10': 25}, {'00': 37, '11': 28, '01': 16, '10': 19}, {'00': 46, '11': 54}, {'00': 30, '11': 16, '01': 28, '10': 26}]\n",
      "[{'00': 29, '11': 35, '01': 17, '10': 19}, {'00': 30, '11': 36, '01': 13, '10': 21}, {'00': 42, '11': 58}, {'00': 18, '11': 30, '01': 30, '10': 22}]\n",
      "[{'00': 39, '11': 26, '01': 16, '10': 19}, {'00': 37, '11': 29, '01': 23, '10': 11}, {'00': 46, '11': 54}, {'00': 14, '11': 20, '01': 33, '10': 33}]\n",
      "[{'00': 32, '11': 35, '01': 18, '10': 15}, {'00': 39, '11': 31, '01': 17, '10': 13}, {'00': 51, '11': 49}, {'00': 17, '11': 11, '01': 37, '10': 35}]\n",
      "[{'00': 42, '11': 32, '01': 14, '10': 12}, {'00': 41, '11': 34, '01': 12, '10': 13}, {'00': 45, '11': 55}, {'00': 17, '11': 13, '01': 38, '10': 32}]\n",
      "[{'00': 48, '11': 30, '01': 13, '10': 9}, {'00': 45, '11': 33, '01': 8, '10': 14}, {'00': 51, '11': 49}, {'00': 15, '11': 11, '01': 42, '10': 32}]\n",
      "[{'00': 39, '11': 37, '01': 12, '10': 12}, {'00': 50, '11': 30, '01': 8, '10': 12}, {'00': 50, '11': 50}, {'00': 14, '11': 13, '01': 36, '10': 37}]\n",
      "[{'00': 35, '11': 39, '01': 13, '10': 13}, {'00': 43, '11': 35, '01': 14, '10': 8}, {'00': 45, '11': 55}, {'00': 6, '11': 13, '01': 37, '10': 44}]\n",
      "[{'00': 47, '11': 36, '01': 10, '10': 7}, {'00': 48, '11': 38, '01': 3, '10': 11}, {'00': 48, '11': 52}, {'00': 11, '11': 13, '01': 43, '10': 33}]\n",
      "[{'00': 45, '11': 43, '01': 5, '10': 7}, {'00': 42, '11': 40, '01': 9, '10': 9}, {'00': 49, '11': 51}, {'00': 10, '11': 12, '01': 41, '10': 37}]\n",
      "[{'00': 49, '11': 42, '01': 4, '10': 5}, {'00': 36, '11': 51, '01': 5, '10': 8}, {'00': 53, '11': 47}, {'00': 6, '11': 5, '01': 47, '10': 42}]\n",
      "[{'00': 41, '11': 46, '01': 10, '10': 3}, {'00': 36, '11': 49, '01': 5, '10': 10}, {'00': 50, '11': 50}, {'00': 3, '11': 7, '01': 40, '10': 50}]\n",
      "[{'00': 46, '11': 44, '01': 7, '10': 3}, {'00': 46, '11': 47, '01': 3, '10': 4}, {'00': 47, '11': 53}, {'00': 2, '11': 2, '01': 50, '10': 46}]\n",
      "[{'00': 52, '11': 43, '01': 1, '10': 4}, {'00': 41, '11': 51, '01': 7, '10': 1}, {'00': 46, '11': 54}, {'00': 3, '11': 4, '01': 53, '10': 40}]\n",
      "[{'00': 52, '11': 45, '01': 1, '10': 2}, {'00': 54, '11': 39, '01': 5, '10': 2}, {'00': 51, '11': 49}, {'00': 3, '11': 3, '01': 51, '10': 43}]\n",
      "[{'00': 51, '11': 43, '01': 3, '10': 3}, {'00': 45, '11': 51, '01': 1, '10': 3}, {'00': 49, '11': 51}, {'00': 2, '11': 4, '01': 36, '10': 58}]\n",
      "[{'00': 51, '11': 47, '01': 1, '10': 1}, {'00': 43, '11': 54, '01': 2, '10': 1}, {'00': 42, '11': 58}, {'00': 2, '11': 3, '01': 50, '10': 45}]\n",
      "[{'00': 48, '11': 52}, {'00': 55, '11': 39, '01': 4, '10': 2}, {'00': 47, '11': 53}, {'00': 1, '11': 3, '01': 47, '10': 49}]\n",
      "[{'00': 49, '11': 50, '01': 1}, {'00': 53, '11': 44, '01': 2, '10': 1}, {'00': 53, '11': 47}, {'00': 1, '01': 56, '10': 43}]\n",
      "[{'00': 52, '11': 47, '10': 1}, {'00': 50, '11': 50}, {'00': 48, '11': 52}, {'01': 45, '10': 55}]\n",
      "[{'00': 38, '11': 61, '10': 1}, {'00': 49, '11': 51}, {'00': 53, '11': 47}, {'01': 48, '11': 1, '10': 51}]\n",
      "[{'00': 52, '11': 48}, {'00': 56, '11': 44}, {'00': 44, '11': 56}, {'01': 40, '10': 60}]\n",
      "[{'00': 40, '11': 60}, {'00': 50, '11': 50}, {'00': 48, '11': 52}, {'01': 61, '10': 39}]\n"
     ]
    }
   ],
   "source": [
    "import math\n",
    "num_shots = 100\n",
    "sim = Aer.get_backend('qasm_simulator')\n",
    "output = []\n",
    "for i in np.linspace(0, 2*np.pi, 100):\n",
    "    out = []\n",
    "    for circuit in qc:\n",
    "        circuit = circuit.assign_parameters({param: i})\n",
    "        job = execute(circuit, sim, shots = num_shots)\n",
    "        result = job.result()\n",
    "        out.append(result.get_counts(circuit))\n",
    "    output.append(out)\n",
    "for i in output:\n",
    "    print(i)"
   ]
  },
  {
   "cell_type": "code",
   "execution_count": 110,
   "metadata": {
    "scrolled": true
   },
   "outputs": [
    {
     "name": "stdout",
     "output_type": "stream",
     "text": [
      "1.0\n",
      "1.0\n",
      "0.99\n",
      "0.99\n",
      "0.98\n",
      "0.96\n",
      "0.94\n",
      "0.8899999999999999\n",
      "0.8599999999999999\n",
      "0.9299999999999999\n",
      "0.8400000000000001\n",
      "0.7300000000000001\n",
      "0.6100000000000001\n",
      "0.77\n",
      "0.6600000000000001\n",
      "0.54\n",
      "0.54\n",
      "0.26\n",
      "0.3899999999999999\n",
      "0.28\n",
      "0.25\n",
      "0.10999999999999999\n",
      "0.16000000000000003\n",
      "0.18\n",
      "0.11000000000000004\n",
      "-0.11000000000000004\n",
      "-0.10000000000000003\n",
      "-0.16000000000000003\n",
      "-0.14\n",
      "-0.34\n",
      "-0.41999999999999993\n",
      "-0.38999999999999996\n",
      "-0.4099999999999999\n",
      "-0.53\n",
      "-0.55\n",
      "-0.6300000000000001\n",
      "-0.6200000000000001\n",
      "-0.7100000000000001\n",
      "-0.72\n",
      "-0.77\n",
      "-0.8599999999999999\n",
      "-0.8599999999999999\n",
      "-0.9099999999999999\n",
      "-0.8699999999999999\n",
      "-0.9299999999999999\n",
      "-0.96\n",
      "-1.0\n",
      "-0.98\n",
      "-1.0\n",
      "-1.0\n",
      "-1.0\n",
      "-1.0\n",
      "-0.98\n",
      "-0.99\n",
      "-0.95\n",
      "-0.95\n",
      "-0.9199999999999999\n",
      "-0.94\n",
      "-0.8699999999999999\n",
      "-0.7999999999999999\n",
      "-0.83\n",
      "-0.77\n",
      "-0.69\n",
      "-0.7200000000000001\n",
      "-0.67\n",
      "-0.54\n",
      "-0.6100000000000001\n",
      "-0.44999999999999996\n",
      "-0.42999999999999994\n",
      "-0.3400000000000001\n",
      "-0.28\n",
      "-0.25\n",
      "-0.15000000000000002\n",
      "-0.15000000000000002\n",
      "0.0\n",
      "0.07\n",
      "0.13000000000000006\n",
      "0.14999999999999997\n",
      "0.24\n",
      "0.31\n",
      "0.2799999999999999\n",
      "0.38\n",
      "0.53\n",
      "0.54\n",
      "0.64\n",
      "0.7\n",
      "0.63\n",
      "0.71\n",
      "0.79\n",
      "0.7799999999999999\n",
      "0.8699999999999999\n",
      "0.8300000000000001\n",
      "0.9099999999999999\n",
      "0.9099999999999999\n",
      "0.95\n",
      "1.0\n",
      "0.98\n",
      "0.98\n",
      "1.0\n",
      "1.0\n",
      "minimum eigenvalue =  -1.0\n"
     ]
    }
   ],
   "source": [
    "final = []\n",
    "for i in output:\n",
    "    out2 = []\n",
    "    for j in range(4):\n",
    "        avg = 0\n",
    "        for key, value in i[j].items():\n",
    "            avg += eig_values[j][key]*value\n",
    "        out2.append(avg/num_shots)\n",
    "    final.append(-1/2*(out2[2] + out2[3]) + 1/2*(out2[0] + out2[1]))\n",
    "    print(-1/2*(out2[2] + out2[3]) + 1/2*(out2[0] + out2[1]))\n",
    "print('minimum eigenvalue = ', min(final))"
   ]
  },
  {
   "cell_type": "code",
   "execution_count": 106,
   "metadata": {},
   "outputs": [
    {
     "data": {
      "image/png": "[encoded data removed]",
      "text/plain": [
       "<Figure size 288x288 with 1 Axes>"
      ]
     },
     "execution_count": 106,
     "metadata": {},
     "output_type": "execute_result"
    }
   ],
   "source": [
    "# proving the rx and ry gates for measuring in y basis and x basis respectively\n",
    "from qiskit.tools.visualization import plot_bloch_multivector\n",
    "qc = QuantumCircuit(1)\n",
    "# qc.ry(np.pi/2, 0)\n",
    "qc.h(0)\n",
    "\n",
    "# qc.rx(-np.pi/2, 0)\n",
    "# qc.rx(np.pi/2, 0)\n",
    "\n",
    "sim = Aer.get_backend('statevector_simulator')\n",
    "result = execute(qc, sim).result()\n",
    "plot_bloch_multivector(result.get_statevector())"
   ]
  },
  {
   "cell_type": "code",
   "execution_count": 112,
   "metadata": {},
   "outputs": [
    {
     "name": "stdout",
     "output_type": "stream",
     "text": [
      "[[ 0.70710678  0.70710678]\n",
      " [ 0.70710678 -0.70710678]]\n",
      "\n",
      "[[0.70710678]\n",
      " [0.        ]\n",
      " [0.        ]\n",
      " [0.70710678]]\n",
      "\n"
     ]
    },
    {
     "data": {
      "text/plain": [
       "array([[0.70710678],\n",
       "       [0.        ],\n",
       "       [0.        ],\n",
       "       [0.70710678]])"
      ]
     },
     "execution_count": 112,
     "metadata": {},
     "output_type": "execute_result"
    }
   ],
   "source": [
    "# How to find mapping of eigenvalues to measurment in z basis? Example: applying rx gate to the \n",
    "# 1st eigenvector of yy matrix. \n",
    "rx = np.array([[1/math.sqrt(2), 1/math.sqrt(2)],[1/math.sqrt(2), -1/math.sqrt(2)]])\n",
    "eig_state = np.array([[1/math.sqrt(2)], [0], [0], [1/math.sqrt(2)]])\n",
    "print(rx)\n",
    "print()\n",
    "print(eig_state)\n",
    "print()\n",
    "np.kron(rx, rx) @ eig_state"
   ]
  },
  {
   "cell_type": "code",
   "execution_count": 96,
   "metadata": {},
   "outputs": [
    {
     "name": "stdout",
     "output_type": "stream",
     "text": [
      "(array([ 1.+0.j,  1.+0.j, -1.+0.j, -1.+0.j]), array([[1.+0.j, 0.+0.j, 0.+0.j, 0.+0.j],\n",
      "       [0.+0.j, 1.+0.j, 0.+0.j, 0.+0.j],\n",
      "       [0.+0.j, 0.+0.j, 1.+0.j, 0.+0.j],\n",
      "       [0.+0.j, 0.+0.j, 0.+0.j, 1.+0.j]]))\n"
     ]
    }
   ],
   "source": [
    "print(np.linalg.eig(np.kron(pauli[1], pauli[0])))"
   ]
  },
  {
   "cell_type": "code",
   "execution_count": null,
   "metadata": {},
   "outputs": [],
   "source": []
  }
 ],
 "metadata": {
  "kernelspec": {
   "display_name": "Python 3",
   "language": "python",
   "name": "python3"
  },
  "language_info": {
   "codemirror_mode": {
    "name": "ipython",
    "version": 3
   },
   "file_extension": ".py",
   "mimetype": "text/x-python",
   "name": "python",
   "nbconvert_exporter": "python",
   "pygments_lexer": "ipython3",
   "version": "3.7.6"
  }
 },
 "nbformat": 4,
 "nbformat_minor": 4
}
